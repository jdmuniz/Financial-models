{
 "cells": [
  {
   "cell_type": "code",
   "execution_count": 72,
   "metadata": {},
   "outputs": [],
   "source": [
    "import numpy as np\n",
    "import pandas as pd\n",
    "import matplotlib.pyplot as plt\n",
    "import matplotlib.ticker as ticker\n",
    "import seaborn as sns\n",
    "from scipy import stats"
   ]
  },
  {
   "cell_type": "code",
   "execution_count": 2,
   "metadata": {},
   "outputs": [
    {
     "data": {
      "text/plain": [
       "0.19948390658154863"
      ]
     },
     "execution_count": 2,
     "metadata": {},
     "output_type": "execute_result"
    }
   ],
   "source": [
    "stats.norm.cdf(185,197.07,14.31)"
   ]
  },
  {
   "cell_type": "code",
   "execution_count": 5,
   "metadata": {},
   "outputs": [
    {
     "name": "stdout",
     "output_type": "stream",
     "text": [
      "The probability of P(X<185) is 19.91 %.\n"
     ]
    }
   ],
   "source": [
    "#Uses an x value, the mean of the data, and the standard deviation to get the % probability of being less than X. \n",
    "#Returns the probability truncated to two decimal places.\n",
    "mean_data = 197.09\n",
    "stdev_data = 14.31\n",
    "x = 185\n",
    "probability_of_x_less_than_185 = round((stats.norm.cdf(x,mean_data,stdev_data)*100),2) \n",
    "print(\"The probability of P(X<185) is\",probability_of_x_less_than_185,\"%.\")"
   ]
  },
  {
   "cell_type": "code",
   "execution_count": 14,
   "metadata": {},
   "outputs": [
    {
     "data": {
      "text/html": [
       "<div>\n",
       "<style scoped>\n",
       "    .dataframe tbody tr th:only-of-type {\n",
       "        vertical-align: middle;\n",
       "    }\n",
       "\n",
       "    .dataframe tbody tr th {\n",
       "        vertical-align: top;\n",
       "    }\n",
       "\n",
       "    .dataframe thead th {\n",
       "        text-align: right;\n",
       "    }\n",
       "</style>\n",
       "<table border=\"1\" class=\"dataframe\">\n",
       "  <thead>\n",
       "    <tr style=\"text-align: right;\">\n",
       "      <th></th>\n",
       "      <th>Portfolio 1</th>\n",
       "      <th>Portfolio 2</th>\n",
       "    </tr>\n",
       "  </thead>\n",
       "  <tbody>\n",
       "    <tr>\n",
       "      <td>0</td>\n",
       "      <td>6026455.0</td>\n",
       "      <td>8780510.0</td>\n",
       "    </tr>\n",
       "    <tr>\n",
       "      <td>1</td>\n",
       "      <td>3489269.0</td>\n",
       "      <td>8954696.0</td>\n",
       "    </tr>\n",
       "    <tr>\n",
       "      <td>2</td>\n",
       "      <td>1971498.0</td>\n",
       "      <td>5339542.0</td>\n",
       "    </tr>\n",
       "    <tr>\n",
       "      <td>3</td>\n",
       "      <td>114219.0</td>\n",
       "      <td>7122627.0</td>\n",
       "    </tr>\n",
       "    <tr>\n",
       "      <td>4</td>\n",
       "      <td>5824180.0</td>\n",
       "      <td>4658753.0</td>\n",
       "    </tr>\n",
       "  </tbody>\n",
       "</table>\n",
       "</div>"
      ],
      "text/plain": [
       "   Portfolio 1  Portfolio 2\n",
       "0    6026455.0    8780510.0\n",
       "1    3489269.0    8954696.0\n",
       "2    1971498.0    5339542.0\n",
       "3     114219.0    7122627.0\n",
       "4    5824180.0    4658753.0"
      ]
     },
     "execution_count": 14,
     "metadata": {},
     "output_type": "execute_result"
    }
   ],
   "source": [
    "#Imports the csv file from my Downloads folder\n",
    "df = pd.read_csv(r\"C:\\Users\\jdmun\\Downloads\\cost_estimation_hw1.csv\", encoding = 'latin1')\n",
    "df.head()"
   ]
  },
  {
   "cell_type": "code",
   "execution_count": 15,
   "metadata": {},
   "outputs": [
    {
     "data": {
      "text/html": [
       "<div>\n",
       "<style scoped>\n",
       "    .dataframe tbody tr th:only-of-type {\n",
       "        vertical-align: middle;\n",
       "    }\n",
       "\n",
       "    .dataframe tbody tr th {\n",
       "        vertical-align: top;\n",
       "    }\n",
       "\n",
       "    .dataframe thead th {\n",
       "        text-align: right;\n",
       "    }\n",
       "</style>\n",
       "<table border=\"1\" class=\"dataframe\">\n",
       "  <thead>\n",
       "    <tr style=\"text-align: right;\">\n",
       "      <th></th>\n",
       "      <th>Portfolio 1</th>\n",
       "      <th>Portfolio 2</th>\n",
       "    </tr>\n",
       "  </thead>\n",
       "  <tbody>\n",
       "    <tr>\n",
       "      <td>count</td>\n",
       "      <td>2.000000e+01</td>\n",
       "      <td>2.000000e+01</td>\n",
       "    </tr>\n",
       "    <tr>\n",
       "      <td>mean</td>\n",
       "      <td>3.922176e+06</td>\n",
       "      <td>5.606001e+06</td>\n",
       "    </tr>\n",
       "    <tr>\n",
       "      <td>std</td>\n",
       "      <td>2.654118e+06</td>\n",
       "      <td>2.842836e+06</td>\n",
       "    </tr>\n",
       "    <tr>\n",
       "      <td>min</td>\n",
       "      <td>1.142190e+05</td>\n",
       "      <td>5.486800e+04</td>\n",
       "    </tr>\n",
       "    <tr>\n",
       "      <td>25%</td>\n",
       "      <td>1.674451e+06</td>\n",
       "      <td>4.004094e+06</td>\n",
       "    </tr>\n",
       "    <tr>\n",
       "      <td>50%</td>\n",
       "      <td>3.597064e+06</td>\n",
       "      <td>5.946886e+06</td>\n",
       "    </tr>\n",
       "    <tr>\n",
       "      <td>75%</td>\n",
       "      <td>6.046341e+06</td>\n",
       "      <td>8.020090e+06</td>\n",
       "    </tr>\n",
       "    <tr>\n",
       "      <td>max</td>\n",
       "      <td>8.139324e+06</td>\n",
       "      <td>9.980889e+06</td>\n",
       "    </tr>\n",
       "  </tbody>\n",
       "</table>\n",
       "</div>"
      ],
      "text/plain": [
       "        Portfolio 1   Portfolio 2\n",
       "count  2.000000e+01  2.000000e+01\n",
       "mean   3.922176e+06  5.606001e+06\n",
       "std    2.654118e+06  2.842836e+06\n",
       "min    1.142190e+05  5.486800e+04\n",
       "25%    1.674451e+06  4.004094e+06\n",
       "50%    3.597064e+06  5.946886e+06\n",
       "75%    6.046341e+06  8.020090e+06\n",
       "max    8.139324e+06  9.980889e+06"
      ]
     },
     "execution_count": 15,
     "metadata": {},
     "output_type": "execute_result"
    }
   ],
   "source": [
    "#Returns the descriptive statistics of the dataframe.\n",
    "df.describe()"
   ]
  },
  {
   "cell_type": "code",
   "execution_count": 17,
   "metadata": {
    "scrolled": true
   },
   "outputs": [
    {
     "data": {
      "text/html": [
       "<div>\n",
       "<style scoped>\n",
       "    .dataframe tbody tr th:only-of-type {\n",
       "        vertical-align: middle;\n",
       "    }\n",
       "\n",
       "    .dataframe tbody tr th {\n",
       "        vertical-align: top;\n",
       "    }\n",
       "\n",
       "    .dataframe thead th {\n",
       "        text-align: right;\n",
       "    }\n",
       "</style>\n",
       "<table border=\"1\" class=\"dataframe\">\n",
       "  <thead>\n",
       "    <tr style=\"text-align: right;\">\n",
       "      <th></th>\n",
       "      <th>Portfolio 1</th>\n",
       "      <th>Portfolio 2</th>\n",
       "    </tr>\n",
       "  </thead>\n",
       "  <tbody>\n",
       "    <tr>\n",
       "      <td>count</td>\n",
       "      <td>20.00000</td>\n",
       "      <td>20.00000</td>\n",
       "    </tr>\n",
       "    <tr>\n",
       "      <td>mean</td>\n",
       "      <td>3922175.80000</td>\n",
       "      <td>5606001.15000</td>\n",
       "    </tr>\n",
       "    <tr>\n",
       "      <td>std</td>\n",
       "      <td>2654118.48221</td>\n",
       "      <td>2842836.23390</td>\n",
       "    </tr>\n",
       "    <tr>\n",
       "      <td>min</td>\n",
       "      <td>114219.00000</td>\n",
       "      <td>54868.00000</td>\n",
       "    </tr>\n",
       "    <tr>\n",
       "      <td>25%</td>\n",
       "      <td>1674451.00000</td>\n",
       "      <td>4004093.50000</td>\n",
       "    </tr>\n",
       "    <tr>\n",
       "      <td>50%</td>\n",
       "      <td>3597064.50000</td>\n",
       "      <td>5946886.00000</td>\n",
       "    </tr>\n",
       "    <tr>\n",
       "      <td>75%</td>\n",
       "      <td>6046341.25000</td>\n",
       "      <td>8020090.50000</td>\n",
       "    </tr>\n",
       "    <tr>\n",
       "      <td>max</td>\n",
       "      <td>8139324.00000</td>\n",
       "      <td>9980889.00000</td>\n",
       "    </tr>\n",
       "  </tbody>\n",
       "</table>\n",
       "</div>"
      ],
      "text/plain": [
       "         Portfolio 1    Portfolio 2\n",
       "count       20.00000       20.00000\n",
       "mean   3922175.80000  5606001.15000\n",
       "std    2654118.48221  2842836.23390\n",
       "min     114219.00000    54868.00000\n",
       "25%    1674451.00000  4004093.50000\n",
       "50%    3597064.50000  5946886.00000\n",
       "75%    6046341.25000  8020090.50000\n",
       "max    8139324.00000  9980889.00000"
      ]
     },
     "execution_count": 17,
     "metadata": {},
     "output_type": "execute_result"
    }
   ],
   "source": [
    "#Returns the descriptive statistics of the dataframe, while removing the scientific notation for readability\n",
    "df.describe().apply(lambda s: s.apply('{0:.5f}'.format))"
   ]
  },
  {
   "cell_type": "code",
   "execution_count": 30,
   "metadata": {},
   "outputs": [],
   "source": [
    "sns.set(font_scale=1.4)\n",
    "\n",
    "def reformat_large_tick_values(tick_val, pos):\n",
    "    \"\"\"\n",
    "    Turns large tick values (in the billions, millions and thousands) such as 4500 into 4.5K and also appropriately turns 4000 into 4K (no zero after the decimal).\n",
    "    \"\"\"\n",
    "    if tick_val >= 1000000000:\n",
    "        val = round(tick_val/1000000000, 1)\n",
    "        new_tick_format = '{:}B'.format(val)\n",
    "    elif tick_val >= 1000000:\n",
    "        val = round(tick_val/1000000, 1)\n",
    "        new_tick_format = '{:}M'.format(val)\n",
    "    elif tick_val >= 1000:\n",
    "        val = round(tick_val/1000, 1)\n",
    "        new_tick_format = '{:}K'.format(val)\n",
    "    elif tick_val < 1000:\n",
    "        new_tick_format = round(tick_val, 1)\n",
    "    else:\n",
    "        new_tick_format = tick_val\n",
    "\n",
    "    # make new_tick_format into a string value\n",
    "    new_tick_format = str(new_tick_format)\n",
    "    \n",
    "    # code below will keep 4.5M as is but change values such as 4.0M to 4M since that zero after the decimal isn't needed\n",
    "    index_of_decimal = new_tick_format.find(\".\")\n",
    "    \n",
    "    if index_of_decimal != -1:\n",
    "        value_after_decimal = new_tick_format[index_of_decimal+1]\n",
    "        if value_after_decimal == \"0\":\n",
    "            # remove the 0 after the decimal point since it's not needed\n",
    "            new_tick_format = new_tick_format[0:index_of_decimal] + new_tick_format[index_of_decimal+2:]\n",
    "            \n",
    "    return new_tick_format"
   ]
  },
  {
   "cell_type": "code",
   "execution_count": 41,
   "metadata": {
    "scrolled": true
   },
   "outputs": [
    {
     "data": {
      "image/png": "[encoded data removed]",
      "text/plain": [
       "<Figure size 432x288 with 1 Axes>"
      ]
     },
     "metadata": {},
     "output_type": "display_data"
    }
   ],
   "source": [
    "#Create a histogram of the cash flow's for Portfolio 1\n",
    "plt.hist(df[\"Portfolio 1\"])\n",
    "#Adds the x axis label description\n",
    "plt.xlabel(\"Cash Flows [$]\", labelpad=16)\n",
    "#Adds the y axis label description\n",
    "plt.ylabel(\"Frequency\", labelpad=16)\n",
    "#Adds the table label description, placemement, and font size\n",
    "plt.title(\"Histogram of Portfolio 1's Cash Flows\", y=1.02, fontsize=22)\n",
    "#Gets the current axis (GetCurrentAxis = GCA) for the figure\n",
    "ax = plt.gca()\n",
    "#Reformats the major ticks on the x axis\n",
    "ax.xaxis.set_major_formatter(ticker.FuncFormatter(reformat_large_tick_values));"
   ]
  },
  {
   "cell_type": "code",
   "execution_count": 43,
   "metadata": {},
   "outputs": [
    {
     "data": {
      "image/png": "[encoded data removed]",
      "text/plain": [
       "<Figure size 432x288 with 1 Axes>"
      ]
     },
     "metadata": {},
     "output_type": "display_data"
    }
   ],
   "source": [
    "#Create a histogram of the cash flow's for Portfolio 2\n",
    "plt.hist(df[\"Portfolio 2\"])\n",
    "#Adds the x axis label description\n",
    "plt.xlabel(\"Cash Flows [$]\", labelpad=16)\n",
    "#Adds the y axis label description\n",
    "plt.ylabel(\"Frequency\", labelpad=16)\n",
    "#Adds the table label description, placemement, and font size\n",
    "plt.title(\"Histogram of Portfolio 2's Cash Flows\", y=1.02, fontsize=22)\n",
    "#Gets the current axis (GetCurrentAxis = GCA) for the figure\n",
    "ax = plt.gca()\n",
    "#Reformats the major ticks on the x axis\n",
    "ax.xaxis.set_major_formatter(ticker.FuncFormatter(reformat_large_tick_values));"
   ]
  },
  {
   "cell_type": "code",
   "execution_count": 45,
   "metadata": {},
   "outputs": [
    {
     "data": {
      "text/html": [
       "<div>\n",
       "<style scoped>\n",
       "    .dataframe tbody tr th:only-of-type {\n",
       "        vertical-align: middle;\n",
       "    }\n",
       "\n",
       "    .dataframe tbody tr th {\n",
       "        vertical-align: top;\n",
       "    }\n",
       "\n",
       "    .dataframe thead th {\n",
       "        text-align: right;\n",
       "    }\n",
       "</style>\n",
       "<table border=\"1\" class=\"dataframe\">\n",
       "  <thead>\n",
       "    <tr style=\"text-align: right;\">\n",
       "      <th></th>\n",
       "      <th>KLOC</th>\n",
       "      <th>Staff-Months</th>\n",
       "    </tr>\n",
       "  </thead>\n",
       "  <tbody>\n",
       "    <tr>\n",
       "      <td>0</td>\n",
       "      <td>7</td>\n",
       "      <td>80</td>\n",
       "    </tr>\n",
       "    <tr>\n",
       "      <td>1</td>\n",
       "      <td>13</td>\n",
       "      <td>106</td>\n",
       "    </tr>\n",
       "    <tr>\n",
       "      <td>2</td>\n",
       "      <td>56</td>\n",
       "      <td>581</td>\n",
       "    </tr>\n",
       "    <tr>\n",
       "      <td>3</td>\n",
       "      <td>100</td>\n",
       "      <td>682</td>\n",
       "    </tr>\n",
       "    <tr>\n",
       "      <td>4</td>\n",
       "      <td>115</td>\n",
       "      <td>854</td>\n",
       "    </tr>\n",
       "  </tbody>\n",
       "</table>\n",
       "</div>"
      ],
      "text/plain": [
       "   KLOC  Staff-Months\n",
       "0     7            80\n",
       "1    13           106\n",
       "2    56           581\n",
       "3   100           682\n",
       "4   115           854"
      ]
     },
     "execution_count": 45,
     "metadata": {},
     "output_type": "execute_result"
    }
   ],
   "source": [
    "#Read excel file\n",
    "df2 = pd.read_excel(r\"C:\\Users\\jdmun\\Downloads\\cost_estimation_models_hw1_q2.xlsx\", encoding = 'latin1')\n",
    "df2.head()"
   ]
  },
  {
   "cell_type": "code",
   "execution_count": 119,
   "metadata": {},
   "outputs": [],
   "source": [
    "#Set up linear regression for model\n",
    "from sklearn.linear_model import LinearRegression\n",
    "x = df2.iloc[:, 1].values.reshape(-1, 1)  # values converts it into a numpy array\n",
    "y = df2.iloc[:, 0].values.reshape(-1, 1)  # -1 means that calculate the dimension of rows, but have 1 column\n",
    "regression_model = LinearRegression().fit(x,y)\n",
    "#Makes predictions of what y would be based on x\n",
    "y_pred = regression_model.predict(x)\n",
    "#Returns the r-squared value for the regression model\n",
    "r_sq = regression_model.score(x,y)\n",
    "#display adjusted R-squared\n",
    "adjusted_r_sq = 1 - (1-regression_model.score(x, y))*(len(y)-1)/(len(y)-x.shape[1]-1)\n",
    "#Finds the y-intercept (beta zero) for the regression model\n",
    "intercept = regression_model.intercept_\n",
    "#Returns the x(i) coefficients for the regression model\n",
    "coefficients = regression_model.coef_\n"
   ]
  },
  {
   "cell_type": "code",
   "execution_count": 121,
   "metadata": {},
   "outputs": [
    {
     "name": "stdout",
     "output_type": "stream",
     "text": [
      "The regression equation for this model is: KLOC = [-19.26982988] + [[0.19328161]] Staff-Months\n",
      "R-Squared = 80.7 %\n",
      "Adjusted R-Squared = 75.88 %\n"
     ]
    }
   ],
   "source": [
    "print(\"The regression equation for this model is: KLOC =\", intercept, \"+\", coefficients,\"Staff-Months\")\n",
    "print(\"R-Squared =\", round(r_sq * 100,2), \"%\")\n",
    "print(\"Adjusted R-Squared =\", round(adjusted_r_sq * 100,2), \"%\")"
   ]
  },
  {
   "cell_type": "code",
   "execution_count": 89,
   "metadata": {},
   "outputs": [
    {
     "data": {
      "image/png": "[encoded data removed]",
      "text/plain": [
       "<Figure size 432x288 with 1 Axes>"
      ]
     },
     "metadata": {},
     "output_type": "display_data"
    }
   ],
   "source": [
    "#Visualizations for linear regression model\n",
    "plt.plot(x,y_pred, label = 'Linear Regression', color='red')\n",
    "plt.scatter(x,y, label = 'Actual Data Points')\n",
    "plt.xlabel('Staff-Months')\n",
    "plt.ylabel('KLOC')\n",
    "plt.title('Scatterplot of KLOC vs. Staff-Months')\n",
    "plt.legend()\n",
    "plt.show()"
   ]
  },
  {
   "cell_type": "code",
   "execution_count": 111,
   "metadata": {},
   "outputs": [
    {
     "data": {
      "text/plain": [
       "array([[461.86406419]])"
      ]
     },
     "execution_count": 111,
     "metadata": {},
     "output_type": "execute_result"
    }
   ],
   "source": [
    "#Predict number of staff-months required to develop 70 KLOC\n",
    "(70 - (intercept))/coefficients"
   ]
  },
  {
   "cell_type": "code",
   "execution_count": null,
   "metadata": {},
   "outputs": [],
   "source": [
    "#Let's make this simpler using statsmodel.api\n",
    "#Figure out statsmodel.api later\n",
    "#Also, need to check if assumptions are valid in general."
   ]
  }
 ],
 "metadata": {
  "kernelspec": {
   "display_name": "Python 3",
   "language": "python",
   "name": "python3"
  },
  "language_info": {
   "codemirror_mode": {
    "name": "ipython",
    "version": 3
   },
   "file_extension": ".py",
   "mimetype": "text/x-python",
   "name": "python",
   "nbconvert_exporter": "python",
   "pygments_lexer": "ipython3",
   "version": "3.7.4"
  }
 },
 "nbformat": 4,
 "nbformat_minor": 2
}
